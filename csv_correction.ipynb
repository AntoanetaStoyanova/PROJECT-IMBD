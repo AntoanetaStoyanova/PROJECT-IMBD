{
 "cells": [
  {
   "cell_type": "code",
   "execution_count": 240,
   "metadata": {},
   "outputs": [],
   "source": [
    "import pandas as pd\n",
    "import seaborn as sns\n",
    "import matplotlib.pyplot as plt\n",
    "import numpy as np"
   ]
  },
  {
   "cell_type": "code",
   "execution_count": 241,
   "metadata": {},
   "outputs": [
    {
     "data": {
      "text/html": [
       "<div>\n",
       "<style scoped>\n",
       "    .dataframe tbody tr th:only-of-type {\n",
       "        vertical-align: middle;\n",
       "    }\n",
       "\n",
       "    .dataframe tbody tr th {\n",
       "        vertical-align: top;\n",
       "    }\n",
       "\n",
       "    .dataframe thead th {\n",
       "        text-align: right;\n",
       "    }\n",
       "</style>\n",
       "<table border=\"1\" class=\"dataframe\">\n",
       "  <thead>\n",
       "    <tr style=\"text-align: right;\">\n",
       "      <th></th>\n",
       "      <th>color</th>\n",
       "      <th>director_name</th>\n",
       "      <th>num_critic_for_reviews</th>\n",
       "      <th>duration</th>\n",
       "      <th>director_fb_likes</th>\n",
       "      <th>actor_3_fb_likes</th>\n",
       "      <th>actor_2_name</th>\n",
       "      <th>actor_1_fb_likes</th>\n",
       "      <th>gross</th>\n",
       "      <th>genres</th>\n",
       "      <th>...</th>\n",
       "      <th>num_user_for_reviews</th>\n",
       "      <th>language</th>\n",
       "      <th>country</th>\n",
       "      <th>content_rating</th>\n",
       "      <th>budget</th>\n",
       "      <th>title_year</th>\n",
       "      <th>actor_2_fb_likes</th>\n",
       "      <th>imdb_score</th>\n",
       "      <th>aspect_ratio</th>\n",
       "      <th>movie_fb_likes</th>\n",
       "    </tr>\n",
       "  </thead>\n",
       "  <tbody>\n",
       "    <tr>\n",
       "      <th>0</th>\n",
       "      <td>Color</td>\n",
       "      <td>James Cameron</td>\n",
       "      <td>723.00</td>\n",
       "      <td>178.00</td>\n",
       "      <td>0.00</td>\n",
       "      <td>855.00</td>\n",
       "      <td>Joel David Moore</td>\n",
       "      <td>1000.00</td>\n",
       "      <td>760505847.00</td>\n",
       "      <td>Action|Adventure|Fantasy|Sci-Fi</td>\n",
       "      <td>...</td>\n",
       "      <td>3054.00</td>\n",
       "      <td>English</td>\n",
       "      <td>USA</td>\n",
       "      <td>PG-13</td>\n",
       "      <td>237000000.00</td>\n",
       "      <td>2009.00</td>\n",
       "      <td>936.00</td>\n",
       "      <td>7.90</td>\n",
       "      <td>1.78</td>\n",
       "      <td>33000</td>\n",
       "    </tr>\n",
       "    <tr>\n",
       "      <th>1</th>\n",
       "      <td>Color</td>\n",
       "      <td>Gore Verbinski</td>\n",
       "      <td>302.00</td>\n",
       "      <td>169.00</td>\n",
       "      <td>563.00</td>\n",
       "      <td>1000.00</td>\n",
       "      <td>Orlando Bloom</td>\n",
       "      <td>40000.00</td>\n",
       "      <td>309404152.00</td>\n",
       "      <td>Action|Adventure|Fantasy</td>\n",
       "      <td>...</td>\n",
       "      <td>1238.00</td>\n",
       "      <td>English</td>\n",
       "      <td>USA</td>\n",
       "      <td>PG-13</td>\n",
       "      <td>300000000.00</td>\n",
       "      <td>2007.00</td>\n",
       "      <td>5000.00</td>\n",
       "      <td>7.10</td>\n",
       "      <td>2.35</td>\n",
       "      <td>0</td>\n",
       "    </tr>\n",
       "    <tr>\n",
       "      <th>2</th>\n",
       "      <td>Color</td>\n",
       "      <td>Sam Mendes</td>\n",
       "      <td>602.00</td>\n",
       "      <td>148.00</td>\n",
       "      <td>0.00</td>\n",
       "      <td>161.00</td>\n",
       "      <td>Rory Kinnear</td>\n",
       "      <td>11000.00</td>\n",
       "      <td>200074175.00</td>\n",
       "      <td>Action|Adventure|Thriller</td>\n",
       "      <td>...</td>\n",
       "      <td>994.00</td>\n",
       "      <td>English</td>\n",
       "      <td>UK</td>\n",
       "      <td>PG-13</td>\n",
       "      <td>245000000.00</td>\n",
       "      <td>2015.00</td>\n",
       "      <td>393.00</td>\n",
       "      <td>6.80</td>\n",
       "      <td>2.35</td>\n",
       "      <td>85000</td>\n",
       "    </tr>\n",
       "    <tr>\n",
       "      <th>3</th>\n",
       "      <td>Color</td>\n",
       "      <td>Christopher Nolan</td>\n",
       "      <td>813.00</td>\n",
       "      <td>164.00</td>\n",
       "      <td>22000.00</td>\n",
       "      <td>23000.00</td>\n",
       "      <td>Christian Bale</td>\n",
       "      <td>27000.00</td>\n",
       "      <td>448130642.00</td>\n",
       "      <td>Action|Thriller</td>\n",
       "      <td>...</td>\n",
       "      <td>2701.00</td>\n",
       "      <td>English</td>\n",
       "      <td>USA</td>\n",
       "      <td>PG-13</td>\n",
       "      <td>250000000.00</td>\n",
       "      <td>2012.00</td>\n",
       "      <td>23000.00</td>\n",
       "      <td>8.50</td>\n",
       "      <td>2.35</td>\n",
       "      <td>164000</td>\n",
       "    </tr>\n",
       "    <tr>\n",
       "      <th>4</th>\n",
       "      <td>NaN</td>\n",
       "      <td>Doug Walker</td>\n",
       "      <td>NaN</td>\n",
       "      <td>NaN</td>\n",
       "      <td>131.00</td>\n",
       "      <td>NaN</td>\n",
       "      <td>Rob Walker</td>\n",
       "      <td>131.00</td>\n",
       "      <td>NaN</td>\n",
       "      <td>Documentary</td>\n",
       "      <td>...</td>\n",
       "      <td>NaN</td>\n",
       "      <td>NaN</td>\n",
       "      <td>NaN</td>\n",
       "      <td>NaN</td>\n",
       "      <td>NaN</td>\n",
       "      <td>NaN</td>\n",
       "      <td>12.00</td>\n",
       "      <td>7.10</td>\n",
       "      <td>NaN</td>\n",
       "      <td>0</td>\n",
       "    </tr>\n",
       "  </tbody>\n",
       "</table>\n",
       "<p>5 rows × 28 columns</p>\n",
       "</div>"
      ],
      "text/plain": [
       "   color      director_name  num_critic_for_reviews  duration  \\\n",
       "0  Color      James Cameron                  723.00    178.00   \n",
       "1  Color     Gore Verbinski                  302.00    169.00   \n",
       "2  Color         Sam Mendes                  602.00    148.00   \n",
       "3  Color  Christopher Nolan                  813.00    164.00   \n",
       "4    NaN        Doug Walker                     NaN       NaN   \n",
       "\n",
       "   director_fb_likes  actor_3_fb_likes      actor_2_name  actor_1_fb_likes  \\\n",
       "0               0.00            855.00  Joel David Moore           1000.00   \n",
       "1             563.00           1000.00     Orlando Bloom          40000.00   \n",
       "2               0.00            161.00      Rory Kinnear          11000.00   \n",
       "3           22000.00          23000.00    Christian Bale          27000.00   \n",
       "4             131.00               NaN        Rob Walker            131.00   \n",
       "\n",
       "         gross                           genres  ... num_user_for_reviews  \\\n",
       "0 760505847.00  Action|Adventure|Fantasy|Sci-Fi  ...              3054.00   \n",
       "1 309404152.00         Action|Adventure|Fantasy  ...              1238.00   \n",
       "2 200074175.00        Action|Adventure|Thriller  ...               994.00   \n",
       "3 448130642.00                  Action|Thriller  ...              2701.00   \n",
       "4          NaN                      Documentary  ...                  NaN   \n",
       "\n",
       "  language  country  content_rating       budget  title_year actor_2_fb_likes  \\\n",
       "0  English      USA           PG-13 237000000.00     2009.00           936.00   \n",
       "1  English      USA           PG-13 300000000.00     2007.00          5000.00   \n",
       "2  English       UK           PG-13 245000000.00     2015.00           393.00   \n",
       "3  English      USA           PG-13 250000000.00     2012.00         23000.00   \n",
       "4      NaN      NaN             NaN          NaN         NaN            12.00   \n",
       "\n",
       "  imdb_score  aspect_ratio movie_fb_likes  \n",
       "0       7.90          1.78          33000  \n",
       "1       7.10          2.35              0  \n",
       "2       6.80          2.35          85000  \n",
       "3       8.50          2.35         164000  \n",
       "4       7.10           NaN              0  \n",
       "\n",
       "[5 rows x 28 columns]"
      ]
     },
     "execution_count": 241,
     "metadata": {},
     "output_type": "execute_result"
    }
   ],
   "source": [
    "movie_data  = pd.read_csv(\"Datas/5000_movies_bis.csv\")\n",
    "movie_data.head()"
   ]
  },
  {
   "cell_type": "code",
   "execution_count": 242,
   "metadata": {},
   "outputs": [
    {
     "name": "stdout",
     "output_type": "stream",
     "text": [
      "<class 'pandas.core.frame.DataFrame'>\n",
      "RangeIndex: 5043 entries, 0 to 5042\n",
      "Data columns (total 28 columns):\n",
      " #   Column                  Non-Null Count  Dtype  \n",
      "---  ------                  --------------  -----  \n",
      " 0   color                   5024 non-null   object \n",
      " 1   director_name           4939 non-null   object \n",
      " 2   num_critic_for_reviews  4993 non-null   float64\n",
      " 3   duration                5028 non-null   float64\n",
      " 4   director_fb_likes       4939 non-null   float64\n",
      " 5   actor_3_fb_likes        5020 non-null   float64\n",
      " 6   actor_2_name            5030 non-null   object \n",
      " 7   actor_1_fb_likes        5036 non-null   float64\n",
      " 8   gross                   4366 non-null   float64\n",
      " 9   genres                  5043 non-null   object \n",
      " 10  actor_1_name            5036 non-null   object \n",
      " 11  movie_title             5043 non-null   object \n",
      " 12  num_voted_users         5043 non-null   int64  \n",
      " 13  cast_total_fb_likes     5043 non-null   int64  \n",
      " 14  actor_3_name            5020 non-null   object \n",
      " 15  facenumber_in_poster    5030 non-null   float64\n",
      " 16  plot_keywords           4890 non-null   object \n",
      " 17  movie_imdb_link         5043 non-null   object \n",
      " 18  num_user_for_reviews    5022 non-null   float64\n",
      " 19  language                5029 non-null   object \n",
      " 20  country                 5038 non-null   object \n",
      " 21  content_rating          4740 non-null   object \n",
      " 22  budget                  4637 non-null   float64\n",
      " 23  title_year              4935 non-null   float64\n",
      " 24  actor_2_fb_likes        5030 non-null   float64\n",
      " 25  imdb_score              5043 non-null   float64\n",
      " 26  aspect_ratio            4714 non-null   float64\n",
      " 27  movie_fb_likes          5043 non-null   int64  \n",
      "dtypes: float64(13), int64(3), object(12)\n",
      "memory usage: 1.1+ MB\n"
     ]
    }
   ],
   "source": [
    "movie_data.info()"
   ]
  },
  {
   "cell_type": "code",
   "execution_count": 243,
   "metadata": {},
   "outputs": [
    {
     "data": {
      "text/plain": [
       "Index(['color', 'director_name', 'num_critic_for_reviews', 'duration',\n",
       "       'director_fb_likes', 'actor_3_fb_likes', 'actor_2_name',\n",
       "       'actor_1_fb_likes', 'gross', 'genres', 'actor_1_name', 'movie_title',\n",
       "       'num_voted_users', 'cast_total_fb_likes', 'actor_3_name',\n",
       "       'facenumber_in_poster', 'plot_keywords', 'movie_imdb_link',\n",
       "       'num_user_for_reviews', 'language', 'country', 'content_rating',\n",
       "       'budget', 'title_year', 'actor_2_fb_likes', 'imdb_score',\n",
       "       'aspect_ratio', 'movie_fb_likes'],\n",
       "      dtype='object')"
      ]
     },
     "execution_count": 243,
     "metadata": {},
     "output_type": "execute_result"
    }
   ],
   "source": [
    "movie_data.columns"
   ]
  },
  {
   "cell_type": "markdown",
   "metadata": {},
   "source": [
    "* afficher le nombre de valeurs nulles dans chaque colonne"
   ]
  },
  {
   "cell_type": "code",
   "execution_count": 244,
   "metadata": {},
   "outputs": [
    {
     "name": "stdout",
     "output_type": "stream",
     "text": [
      "color: 19\n",
      "director_name: 104\n",
      "num_critic_for_reviews: 50\n",
      "duration: 15\n",
      "director_fb_likes: 104\n",
      "actor_3_fb_likes: 23\n",
      "actor_2_name: 13\n",
      "actor_1_fb_likes: 7\n",
      "gross: 677\n",
      "genres: 0\n",
      "actor_1_name: 7\n",
      "movie_title: 0\n",
      "num_voted_users: 0\n",
      "cast_total_fb_likes: 0\n",
      "actor_3_name: 23\n",
      "facenumber_in_poster: 13\n",
      "plot_keywords: 153\n",
      "movie_imdb_link: 0\n",
      "num_user_for_reviews: 21\n",
      "language: 14\n",
      "country: 5\n",
      "content_rating: 303\n",
      "budget: 406\n",
      "title_year: 108\n",
      "actor_2_fb_likes: 13\n",
      "imdb_score: 0\n",
      "aspect_ratio: 329\n",
      "movie_fb_likes: 0\n"
     ]
    }
   ],
   "source": [
    "for column in movie_data.columns:\n",
    "    null_count = movie_data[column].isnull().sum()\n",
    "    print(f\"{column}: {null_count}\")"
   ]
  },
  {
   "cell_type": "markdown",
   "metadata": {},
   "source": [
    "valeurs manquantes colonne duraiton"
   ]
  },
  {
   "cell_type": "code",
   "execution_count": 245,
   "metadata": {},
   "outputs": [
    {
     "name": "stdout",
     "output_type": "stream",
     "text": [
      "0\n"
     ]
    }
   ],
   "source": [
    "# Calculez la moyenne des valeurs non manquantes dans la colonne \"duration\"\n",
    "mean_duration = movie_data['duration'].mean()\n",
    "\n",
    "# Remplacez les valeurs manquantes dans la colonne \"duration\" par la moyenne calculée\n",
    "movie_data['duration'] = movie_data['duration'].fillna(mean_duration)\n",
    "\n",
    "# Vérifiez que les valeurs manquantes ont été remplacées\n",
    "print(movie_data['duration'].isnull().sum())  # Doit renvoyer 0 si toutes les valeurs manquantes ont été remplacées"
   ]
  },
  {
   "cell_type": "code",
   "execution_count": 246,
   "metadata": {},
   "outputs": [],
   "source": [
    "# Arrondir les valeurs de la colonne \"duration\" à 2 décimales\n",
    "movie_data['duration'] = movie_data['duration'].round(2)"
   ]
  },
  {
   "cell_type": "code",
   "execution_count": 247,
   "metadata": {},
   "outputs": [
    {
     "data": {
      "text/html": [
       "<div>\n",
       "<style scoped>\n",
       "    .dataframe tbody tr th:only-of-type {\n",
       "        vertical-align: middle;\n",
       "    }\n",
       "\n",
       "    .dataframe tbody tr th {\n",
       "        vertical-align: top;\n",
       "    }\n",
       "\n",
       "    .dataframe thead th {\n",
       "        text-align: right;\n",
       "    }\n",
       "</style>\n",
       "<table border=\"1\" class=\"dataframe\">\n",
       "  <thead>\n",
       "    <tr style=\"text-align: right;\">\n",
       "      <th></th>\n",
       "      <th>color</th>\n",
       "      <th>director_name</th>\n",
       "      <th>num_critic_for_reviews</th>\n",
       "      <th>duration</th>\n",
       "      <th>director_fb_likes</th>\n",
       "      <th>actor_3_fb_likes</th>\n",
       "      <th>actor_2_name</th>\n",
       "      <th>actor_1_fb_likes</th>\n",
       "      <th>gross</th>\n",
       "      <th>genres</th>\n",
       "      <th>...</th>\n",
       "      <th>num_user_for_reviews</th>\n",
       "      <th>language</th>\n",
       "      <th>country</th>\n",
       "      <th>content_rating</th>\n",
       "      <th>budget</th>\n",
       "      <th>title_year</th>\n",
       "      <th>actor_2_fb_likes</th>\n",
       "      <th>imdb_score</th>\n",
       "      <th>aspect_ratio</th>\n",
       "      <th>movie_fb_likes</th>\n",
       "    </tr>\n",
       "  </thead>\n",
       "  <tbody>\n",
       "    <tr>\n",
       "      <th>0</th>\n",
       "      <td>Color</td>\n",
       "      <td>James Cameron</td>\n",
       "      <td>723.00</td>\n",
       "      <td>178.00</td>\n",
       "      <td>0.00</td>\n",
       "      <td>855.00</td>\n",
       "      <td>Joel David Moore</td>\n",
       "      <td>1000.00</td>\n",
       "      <td>760505847.00</td>\n",
       "      <td>Action|Adventure|Fantasy|Sci-Fi</td>\n",
       "      <td>...</td>\n",
       "      <td>3054.00</td>\n",
       "      <td>English</td>\n",
       "      <td>USA</td>\n",
       "      <td>PG-13</td>\n",
       "      <td>237000000.00</td>\n",
       "      <td>2009.00</td>\n",
       "      <td>936.00</td>\n",
       "      <td>7.90</td>\n",
       "      <td>1.78</td>\n",
       "      <td>33000</td>\n",
       "    </tr>\n",
       "    <tr>\n",
       "      <th>1</th>\n",
       "      <td>Color</td>\n",
       "      <td>Gore Verbinski</td>\n",
       "      <td>302.00</td>\n",
       "      <td>169.00</td>\n",
       "      <td>563.00</td>\n",
       "      <td>1000.00</td>\n",
       "      <td>Orlando Bloom</td>\n",
       "      <td>40000.00</td>\n",
       "      <td>309404152.00</td>\n",
       "      <td>Action|Adventure|Fantasy</td>\n",
       "      <td>...</td>\n",
       "      <td>1238.00</td>\n",
       "      <td>English</td>\n",
       "      <td>USA</td>\n",
       "      <td>PG-13</td>\n",
       "      <td>300000000.00</td>\n",
       "      <td>2007.00</td>\n",
       "      <td>5000.00</td>\n",
       "      <td>7.10</td>\n",
       "      <td>2.35</td>\n",
       "      <td>0</td>\n",
       "    </tr>\n",
       "    <tr>\n",
       "      <th>2</th>\n",
       "      <td>Color</td>\n",
       "      <td>Sam Mendes</td>\n",
       "      <td>602.00</td>\n",
       "      <td>148.00</td>\n",
       "      <td>0.00</td>\n",
       "      <td>161.00</td>\n",
       "      <td>Rory Kinnear</td>\n",
       "      <td>11000.00</td>\n",
       "      <td>200074175.00</td>\n",
       "      <td>Action|Adventure|Thriller</td>\n",
       "      <td>...</td>\n",
       "      <td>994.00</td>\n",
       "      <td>English</td>\n",
       "      <td>UK</td>\n",
       "      <td>PG-13</td>\n",
       "      <td>245000000.00</td>\n",
       "      <td>2015.00</td>\n",
       "      <td>393.00</td>\n",
       "      <td>6.80</td>\n",
       "      <td>2.35</td>\n",
       "      <td>85000</td>\n",
       "    </tr>\n",
       "    <tr>\n",
       "      <th>3</th>\n",
       "      <td>Color</td>\n",
       "      <td>Christopher Nolan</td>\n",
       "      <td>813.00</td>\n",
       "      <td>164.00</td>\n",
       "      <td>22000.00</td>\n",
       "      <td>23000.00</td>\n",
       "      <td>Christian Bale</td>\n",
       "      <td>27000.00</td>\n",
       "      <td>448130642.00</td>\n",
       "      <td>Action|Thriller</td>\n",
       "      <td>...</td>\n",
       "      <td>2701.00</td>\n",
       "      <td>English</td>\n",
       "      <td>USA</td>\n",
       "      <td>PG-13</td>\n",
       "      <td>250000000.00</td>\n",
       "      <td>2012.00</td>\n",
       "      <td>23000.00</td>\n",
       "      <td>8.50</td>\n",
       "      <td>2.35</td>\n",
       "      <td>164000</td>\n",
       "    </tr>\n",
       "    <tr>\n",
       "      <th>4</th>\n",
       "      <td>NaN</td>\n",
       "      <td>Doug Walker</td>\n",
       "      <td>NaN</td>\n",
       "      <td>107.20</td>\n",
       "      <td>131.00</td>\n",
       "      <td>NaN</td>\n",
       "      <td>Rob Walker</td>\n",
       "      <td>131.00</td>\n",
       "      <td>NaN</td>\n",
       "      <td>Documentary</td>\n",
       "      <td>...</td>\n",
       "      <td>NaN</td>\n",
       "      <td>NaN</td>\n",
       "      <td>NaN</td>\n",
       "      <td>NaN</td>\n",
       "      <td>NaN</td>\n",
       "      <td>NaN</td>\n",
       "      <td>12.00</td>\n",
       "      <td>7.10</td>\n",
       "      <td>NaN</td>\n",
       "      <td>0</td>\n",
       "    </tr>\n",
       "  </tbody>\n",
       "</table>\n",
       "<p>5 rows × 28 columns</p>\n",
       "</div>"
      ],
      "text/plain": [
       "   color      director_name  num_critic_for_reviews  duration  \\\n",
       "0  Color      James Cameron                  723.00    178.00   \n",
       "1  Color     Gore Verbinski                  302.00    169.00   \n",
       "2  Color         Sam Mendes                  602.00    148.00   \n",
       "3  Color  Christopher Nolan                  813.00    164.00   \n",
       "4    NaN        Doug Walker                     NaN    107.20   \n",
       "\n",
       "   director_fb_likes  actor_3_fb_likes      actor_2_name  actor_1_fb_likes  \\\n",
       "0               0.00            855.00  Joel David Moore           1000.00   \n",
       "1             563.00           1000.00     Orlando Bloom          40000.00   \n",
       "2               0.00            161.00      Rory Kinnear          11000.00   \n",
       "3           22000.00          23000.00    Christian Bale          27000.00   \n",
       "4             131.00               NaN        Rob Walker            131.00   \n",
       "\n",
       "         gross                           genres  ... num_user_for_reviews  \\\n",
       "0 760505847.00  Action|Adventure|Fantasy|Sci-Fi  ...              3054.00   \n",
       "1 309404152.00         Action|Adventure|Fantasy  ...              1238.00   \n",
       "2 200074175.00        Action|Adventure|Thriller  ...               994.00   \n",
       "3 448130642.00                  Action|Thriller  ...              2701.00   \n",
       "4          NaN                      Documentary  ...                  NaN   \n",
       "\n",
       "  language  country  content_rating       budget  title_year actor_2_fb_likes  \\\n",
       "0  English      USA           PG-13 237000000.00     2009.00           936.00   \n",
       "1  English      USA           PG-13 300000000.00     2007.00          5000.00   \n",
       "2  English       UK           PG-13 245000000.00     2015.00           393.00   \n",
       "3  English      USA           PG-13 250000000.00     2012.00         23000.00   \n",
       "4      NaN      NaN             NaN          NaN         NaN            12.00   \n",
       "\n",
       "  imdb_score  aspect_ratio movie_fb_likes  \n",
       "0       7.90          1.78          33000  \n",
       "1       7.10          2.35              0  \n",
       "2       6.80          2.35          85000  \n",
       "3       8.50          2.35         164000  \n",
       "4       7.10           NaN              0  \n",
       "\n",
       "[5 rows x 28 columns]"
      ]
     },
     "execution_count": 247,
     "metadata": {},
     "output_type": "execute_result"
    }
   ],
   "source": [
    "movie_data.head()"
   ]
  },
  {
   "cell_type": "markdown",
   "metadata": {},
   "source": [
    "valeurs manquantes colonne language"
   ]
  },
  {
   "cell_type": "code",
   "execution_count": 248,
   "metadata": {},
   "outputs": [
    {
     "name": "stdout",
     "output_type": "stream",
     "text": [
      "4       Star Wars: Episode VII - The Force Awakens    ...\n",
      "279                              10,000 B.C.             \n",
      "2459                           Unforgettable             \n",
      "2895                                      Quest for Fire \n",
      "3086                                      September Dawn \n",
      "3539    Alpha and Omega 4: The Legend of the Saw Tooth...\n",
      "3869                                        Silent Movie \n",
      "3931                                             Samsara \n",
      "4110                                  Love's Abiding Joy \n",
      "4409                                Kickboxer: Vengeance \n",
      "4630                                         A Fine Step \n",
      "4810    Intolerance: Love's Struggle Throughout the Ages \n",
      "4885                                      The Big Parade \n",
      "4958                      Over the Hill to the Poorhouse \n",
      "Name: movie_title, dtype: object\n"
     ]
    }
   ],
   "source": [
    "# Filtrer les lignes où la valeur de la colonne \"language\" est NaN\n",
    "movies_language_nan = movie_data.loc[movie_data['language'].isnull()]\n",
    "\n",
    "# Afficher uniquement les noms des films où la valeur de la colonne \"language\" est NaN\n",
    "print(movies_language_nan['movie_title'])"
   ]
  },
  {
   "cell_type": "code",
   "execution_count": 249,
   "metadata": {},
   "outputs": [
    {
     "name": "stdout",
     "output_type": "stream",
     "text": [
      "4\n"
     ]
    }
   ],
   "source": [
    "# Remplacer les valeurs NaN dans la colonne \"language\" lorsque le pays est \"USA\" par \"English\"\n",
    "movie_data.loc[(movie_data['country'] == 'USA') & (movie_data.index != 3931), 'language'] = movie_data.loc[(movie_data['country'] == 'USA') & (movie_data.index != 3931), 'language'].fillna('English')\n",
    "\n",
    "print(movie_data['language'].isnull().sum())  # Doit renvoyer 0 si toutes les valeurs manquantes ont été remplacées"
   ]
  },
  {
   "cell_type": "code",
   "execution_count": 250,
   "metadata": {},
   "outputs": [
    {
     "name": "stdout",
     "output_type": "stream",
     "text": [
      "     country        director_name  \\\n",
      "4        NaN          Doug Walker   \n",
      "279      NaN  Christopher Barnard   \n",
      "2895  Canada  Jean-Jacques Annaud   \n",
      "3931     USA           Ron Fricke   \n",
      "\n",
      "                                            movie_title  \n",
      "4     Star Wars: Episode VII - The Force Awakens    ...  \n",
      "279                            10,000 B.C.               \n",
      "2895                                    Quest for Fire   \n",
      "3931                                           Samsara   \n"
     ]
    }
   ],
   "source": [
    "# Afficher les lignes où 'language' est toujours NaN\n",
    "nan_rows = movie_data[movie_data['language'].isna()]\n",
    "result = nan_rows[['country', 'director_name', 'movie_title']]\n",
    "print(result)\n"
   ]
  },
  {
   "cell_type": "code",
   "execution_count": 251,
   "metadata": {},
   "outputs": [],
   "source": [
    "movie_data.loc[4, 'language'] = 'English'\n",
    "movie_data.loc[2895, 'language'] = 'French'"
   ]
  },
  {
   "cell_type": "code",
   "execution_count": 252,
   "metadata": {},
   "outputs": [
    {
     "data": {
      "text/plain": [
       "2"
      ]
     },
     "execution_count": 252,
     "metadata": {},
     "output_type": "execute_result"
    }
   ],
   "source": [
    "movie_data['language'].isnull().sum()"
   ]
  },
  {
   "cell_type": "markdown",
   "metadata": {},
   "source": [
    "valeurs manquantes country"
   ]
  },
  {
   "cell_type": "code",
   "execution_count": 253,
   "metadata": {},
   "outputs": [
    {
     "name": "stdout",
     "output_type": "stream",
     "text": [
      "            director_name                                        movie_title  \\\n",
      "4             Doug Walker  Star Wars: Episode VII - The Force Awakens    ...   \n",
      "279   Christopher Barnard                           10,000 B.C.                \n",
      "2370                  NaN                      Gone, Baby, Gone                \n",
      "3397                  NaN                              Preacher                \n",
      "4021    Daniel Petrie Jr.                                       Dawn Patrol    \n",
      "\n",
      "     language  \n",
      "4     English  \n",
      "279       NaN  \n",
      "2370  English  \n",
      "3397  English  \n",
      "4021  English  \n"
     ]
    }
   ],
   "source": [
    "nan_rows = movie_data[movie_data['country'].isna()]\n",
    "result = nan_rows[[ 'director_name', 'movie_title', 'language']]\n",
    "print(result)"
   ]
  },
  {
   "cell_type": "code",
   "execution_count": 254,
   "metadata": {},
   "outputs": [
    {
     "name": "stdout",
     "output_type": "stream",
     "text": [
      "1\n"
     ]
    }
   ],
   "source": [
    "# Remplacer les valeurs NaN dans la colonne \"language\" lorsque le pays est \"USA\" par \"English\"\n",
    "movie_data.loc[movie_data['language'] == 'English', 'country'] = movie_data.loc[movie_data['language'] == 'English', 'country'].fillna('USA')\n",
    "print(movie_data['country'].isnull().sum())  # Doit renvoyer 0 si toutes les valeurs manquantes ont été remplacée"
   ]
  },
  {
   "cell_type": "code",
   "execution_count": 255,
   "metadata": {},
   "outputs": [],
   "source": [
    "movie_data.loc[4, 'country'] = 'USA'\n",
    "movie_data.loc[279, 'country'] = 'USA'"
   ]
  },
  {
   "cell_type": "markdown",
   "metadata": {},
   "source": [
    "lignes dupliquées "
   ]
  },
  {
   "cell_type": "code",
   "execution_count": 256,
   "metadata": {},
   "outputs": [
    {
     "name": "stdout",
     "output_type": "stream",
     "text": [
      "Nombre de lignes dupliquées sur les colonnes spécifiées: 239\n"
     ]
    }
   ],
   "source": [
    "# Sélectionner les colonnes pertinentes\n",
    "columns_to_check = ['director_name', 'actor_2_name', 'actor_1_name', 'actor_3_name', 'movie_title']\n",
    "\n",
    "# Vérifier les doublons sur ces colonnes\n",
    "duplicate_rows = movie_data.duplicated(subset=columns_to_check, keep=False)\n",
    "\n",
    "# Compter le nombre de lignes dupliquées\n",
    "number_of_duplicate_rows = duplicate_rows.sum()\n",
    "\n",
    "print(\"Nombre de lignes dupliquées sur les colonnes spécifiées:\", number_of_duplicate_rows)\n"
   ]
  },
  {
   "cell_type": "code",
   "execution_count": 257,
   "metadata": {},
   "outputs": [
    {
     "name": "stdout",
     "output_type": "stream",
     "text": [
      "Nombre de fois que chaque ligne unique dans les doublons se répète:\n",
      "True     123\n",
      "False    116\n",
      "Name: count, dtype: int64\n"
     ]
    }
   ],
   "source": [
    "# Sélectionner les lignes dupliquées\n",
    "duplicate_rows = movie_data[duplicate_rows]\n",
    "\n",
    "# Compter le nombre de fois où chaque ligne dupliquée apparaît\n",
    "duplicates_count = duplicate_rows.duplicated(subset=columns_to_check).value_counts()\n",
    "\n",
    "print(\"Nombre de fois que chaque ligne unique dans les doublons se répète:\")\n",
    "print(duplicates_count)"
   ]
  },
  {
   "cell_type": "code",
   "execution_count": 258,
   "metadata": {},
   "outputs": [
    {
     "name": "stdout",
     "output_type": "stream",
     "text": [
      "Shape du DataFrame après suppression des doublons: (4920, 28)\n"
     ]
    }
   ],
   "source": [
    "# Supprimer les doublons en se basant sur les colonnes spécifiées dans columns_to_check\n",
    "movie_data.drop_duplicates(subset=columns_to_check, inplace=True)\n",
    "\n",
    "# Vérifier la forme du DataFrame après suppression des doublons\n",
    "print(\"Shape du DataFrame après suppression des doublons:\", movie_data.shape)"
   ]
  },
  {
   "cell_type": "code",
   "execution_count": 259,
   "metadata": {},
   "outputs": [
    {
     "name": "stdout",
     "output_type": "stream",
     "text": [
      "Shape du DataFrame après suppression des doublons: (4920, 28)\n"
     ]
    }
   ],
   "source": [
    "# Supprimer les doublons en se basant sur les colonnes spécifiées dans columns_to_check\n",
    "movie_data_unique = movie_data.drop_duplicates(subset=columns_to_check)\n",
    "\n",
    "# Vérifier la forme du DataFrame après suppression des doublons\n",
    "print(\"Shape du DataFrame après suppression des doublons:\", movie_data_unique.shape)\n"
   ]
  },
  {
   "cell_type": "code",
   "execution_count": 260,
   "metadata": {},
   "outputs": [
    {
     "name": "stdout",
     "output_type": "stream",
     "text": [
      "Nombre de fois que chaque ligne unique dans les doublons se répète:\n",
      "False    4920\n",
      "Name: count, dtype: int64\n"
     ]
    }
   ],
   "source": [
    "# Compter le nombre de fois où chaque ligne unique dans les doublons se répète\n",
    "duplicates_count_df = movie_data.duplicated(subset=columns_to_check).value_counts()\n",
    "\n",
    "print(\"Nombre de fois que chaque ligne unique dans les doublons se répète:\")\n",
    "print(duplicates_count_df)"
   ]
  },
  {
   "cell_type": "markdown",
   "metadata": {},
   "source": [
    "valeurs manquantes color"
   ]
  },
  {
   "cell_type": "code",
   "execution_count": 261,
   "metadata": {},
   "outputs": [
    {
     "name": "stdout",
     "output_type": "stream",
     "text": [
      "Corrélation entre 'color' et 'title_year': 0.28934903563814773\n"
     ]
    }
   ],
   "source": [
    "\n",
    "# Convertir la variable \"color\" en une variable binaire (0 pour noir et blanc, 1 pour couleur)\n",
    "movie_data['color_binary'] = (movie_data['color'] == 'Color').astype(int)\n",
    "\n",
    "# Calculer la corrélation entre la variable binaire \"color_binary\" et \"title_year\"\n",
    "correlation = movie_data['color_binary'].corr(movie_data['title_year'])\n",
    "\n",
    "print(\"Corrélation entre 'color' et 'title_year':\", correlation)"
   ]
  },
  {
   "cell_type": "code",
   "execution_count": 262,
   "metadata": {},
   "outputs": [
    {
     "name": "stdout",
     "output_type": "stream",
     "text": [
      "                                            movie_title  \\\n",
      "4     Star Wars: Episode VII - The Force Awakens    ...   \n",
      "279                            10,000 B.C.                \n",
      "459                              Daredevil                \n",
      "1948                                         Dear John    \n",
      "2015                                           Red Sky    \n",
      "2459                         Unforgettable                \n",
      "2753                                 Shinjuku Incident    \n",
      "3272                             Into the Grizzly Maze    \n",
      "3539  Alpha and Omega 4: The Legend of the Saw Tooth...   \n",
      "3638                    Snow Flower and the Secret Fan    \n",
      "3656                                      Freaky Deaky    \n",
      "4138                                  Something Wicked    \n",
      "4215                             The Rise of the Krays    \n",
      "4331                                  Small Apartments    \n",
      "4409                              Kickboxer: Vengeance    \n",
      "4441                        Once Upon a Time in Queens    \n",
      "4630                                       A Fine Step    \n",
      "4846                                  Midnight Cabaret    \n",
      "5020                                        The Ridges    \n",
      "\n",
      "                                        movie_imdb_link  title_year  \n",
      "4     http://www.imdb.com/title/tt5289954/?ref_=fn_t...         NaN  \n",
      "279   http://www.imdb.com/title/tt1869849/?ref_=fn_t...         NaN  \n",
      "459   http://www.imdb.com/title/tt3322312/?ref_=fn_t...         NaN  \n",
      "1948  http://www.imdb.com/title/tt0989757/?ref_=fn_t...     2010.00  \n",
      "2015  http://www.imdb.com/title/tt1946381/?ref_=fn_t...     2014.00  \n",
      "2459  http://www.imdb.com/title/tt1842530/?ref_=fn_t...         NaN  \n",
      "2753  http://www.imdb.com/title/tt1075419/?ref_=fn_t...     2009.00  \n",
      "3272  http://www.imdb.com/title/tt1694021/?ref_=fn_t...     2015.00  \n",
      "3539  http://www.imdb.com/title/tt4061848/?ref_=fn_t...     2014.00  \n",
      "3638  http://www.imdb.com/title/tt1541995/?ref_=fn_t...     2011.00  \n",
      "3656  http://www.imdb.com/title/tt0938305/?ref_=fn_t...     2012.00  \n",
      "4138  http://www.imdb.com/title/tt1327601/?ref_=fn_t...     2014.00  \n",
      "4215  http://www.imdb.com/title/tt2945796/?ref_=fn_t...     2015.00  \n",
      "4331  http://www.imdb.com/title/tt1272886/?ref_=fn_t...     2012.00  \n",
      "4409  http://www.imdb.com/title/tt3082898/?ref_=fn_t...     2016.00  \n",
      "4441  http://www.imdb.com/title/tt1639397/?ref_=fn_t...     2013.00  \n",
      "4630  http://www.imdb.com/title/tt1604100/?ref_=fn_t...     2014.00  \n",
      "4846  http://www.imdb.com/title/tt0100146/?ref_=fn_t...     1990.00  \n",
      "5020  http://www.imdb.com/title/tt1781935/?ref_=fn_t...     2011.00  \n"
     ]
    }
   ],
   "source": [
    "# Filtrer les lignes où la valeur de la colonne \"color\" est NaN\n",
    "movies_color_nan = movie_data.loc[movie_data['color'].isnull()]\n",
    "\n",
    "# Afficher les movie_title et les movie_imdb_link de ces films\n",
    "print(movies_color_nan[['movie_title', 'movie_imdb_link', 'title_year']])"
   ]
  },
  {
   "cell_type": "code",
   "execution_count": 263,
   "metadata": {},
   "outputs": [
    {
     "name": "stdout",
     "output_type": "stream",
     "text": [
      "0\n"
     ]
    }
   ],
   "source": [
    "# Remplacer toutes les valeurs NaN dans la colonne \"color\" par la chaîne de caractères 'Color'\n",
    "movie_data['color'] = movie_data['color'].fillna('Color')\n",
    "\n",
    "# Vérifier que les valeurs NaN ont été remplacées\n",
    "print(movie_data['color'].isnull().sum())  # Doit renvoyer 0 si toutes les valeurs NaN ont été remplacées\n"
   ]
  },
  {
   "cell_type": "markdown",
   "metadata": {},
   "source": [
    "valeurs manquantes gross  - mean"
   ]
  },
  {
   "cell_type": "code",
   "execution_count": 264,
   "metadata": {},
   "outputs": [
    {
     "name": "stdout",
     "output_type": "stream",
     "text": [
      "0\n"
     ]
    }
   ],
   "source": [
    "# Modifier les options d'affichage pour désactiver la notation scientifique\n",
    "pd.set_option('display.float_format', lambda x: '%.2f' % x)\n",
    "\n",
    "# Calculez la moyenne des valeurs non manquantes dans la colonne \"duration\"\n",
    "\n",
    "mean_duration = movie_data['gross'].mean()\n",
    "\n",
    "# Remplacez les valeurs manquantes dans la colonne \"duration\" par la moyenne calculée\n",
    "movie_data['gross'] = movie_data['gross'].fillna(mean_duration)\n",
    "\n",
    "# Vérifiez que les valeurs manquantes ont été remplacées\n",
    "print(movie_data['gross'].isnull().sum())  # Doit renvoyer 0 si toutes les valeurs manquantes ont été remplacées"
   ]
  },
  {
   "cell_type": "markdown",
   "metadata": {},
   "source": [
    "valeurs manquantes budget  - mean"
   ]
  },
  {
   "cell_type": "code",
   "execution_count": 265,
   "metadata": {},
   "outputs": [
    {
     "name": "stdout",
     "output_type": "stream",
     "text": [
      "0\n"
     ]
    }
   ],
   "source": [
    "# Calculez la moyenne des valeurs non manquantes dans la colonne \"duration\"\n",
    "\n",
    "mean_duration = movie_data['budget'].mean()\n",
    "\n",
    "# Remplacez les valeurs manquantes dans la colonne \"duration\" par la moyenne calculée\n",
    "movie_data['budget'] = movie_data['budget'].fillna(mean_duration)\n",
    "\n",
    "# Vérifiez que les valeurs manquantes ont été remplacées\n",
    "print(movie_data['budget'].isnull().sum())  # Doit renvoyer 0 si toutes les valeurs manquantes ont été remplacées"
   ]
  },
  {
   "cell_type": "code",
   "execution_count": 266,
   "metadata": {},
   "outputs": [
    {
     "data": {
      "text/plain": [
       "0      237000000.00\n",
       "1      300000000.00\n",
       "2      245000000.00\n",
       "3      250000000.00\n",
       "4       38921447.26\n",
       "           ...     \n",
       "5038    38921447.26\n",
       "5039    38921447.26\n",
       "5040        1400.00\n",
       "5041    38921447.26\n",
       "5042        1100.00\n",
       "Name: budget, Length: 4920, dtype: float64"
      ]
     },
     "execution_count": 266,
     "metadata": {},
     "output_type": "execute_result"
    }
   ],
   "source": [
    "movie_data.budget"
   ]
  },
  {
   "cell_type": "markdown",
   "metadata": {},
   "source": [
    "NAN aspect_ratio"
   ]
  },
  {
   "cell_type": "code",
   "execution_count": 267,
   "metadata": {},
   "outputs": [
    {
     "data": {
      "text/plain": [
       "0       1.78\n",
       "1       2.35\n",
       "2       2.35\n",
       "3       2.35\n",
       "4        NaN\n",
       "        ... \n",
       "5038     NaN\n",
       "5039   16.00\n",
       "5040     NaN\n",
       "5041    2.35\n",
       "5042    1.85\n",
       "Name: aspect_ratio, Length: 4920, dtype: float64"
      ]
     },
     "execution_count": 267,
     "metadata": {},
     "output_type": "execute_result"
    }
   ],
   "source": [
    "movie_data.aspect_ratio"
   ]
  },
  {
   "cell_type": "markdown",
   "metadata": {},
   "source": [
    "valeurs manquantes facenumber"
   ]
  },
  {
   "cell_type": "code",
   "execution_count": 268,
   "metadata": {},
   "outputs": [
    {
     "data": {
      "text/plain": [
       "array([ 0.,  1.,  4.,  3.,  2.,  6.,  7.,  5.,  8., nan, 10., 15.,  9.,\n",
       "       11., 12., 31., 14., 19., 13., 43.])"
      ]
     },
     "execution_count": 268,
     "metadata": {},
     "output_type": "execute_result"
    }
   ],
   "source": [
    "movie_data.facenumber_in_poster.unique()"
   ]
  },
  {
   "cell_type": "code",
   "execution_count": 269,
   "metadata": {},
   "outputs": [
    {
     "name": "stdout",
     "output_type": "stream",
     "text": [
      "99      http://www.imdb.com/title/tt0903624/?ref_=fn_t...\n",
      "248     http://www.imdb.com/title/tt3949660/?ref_=fn_t...\n",
      "1948    http://www.imdb.com/title/tt0989757/?ref_=fn_t...\n",
      "3016    http://www.imdb.com/title/tt1929263/?ref_=fn_t...\n",
      "3373    http://www.imdb.com/title/tt4254584/?ref_=fn_t...\n",
      "3797    http://www.imdb.com/title/tt3567288/?ref_=fn_t...\n",
      "3853    http://www.imdb.com/title/tt3014666/?ref_=fn_t...\n",
      "4307    http://www.imdb.com/title/tt1390539/?ref_=fn_t...\n",
      "4444    http://www.imdb.com/title/tt1105355/?ref_=fn_t...\n",
      "4448    http://www.imdb.com/title/tt1236254/?ref_=fn_t...\n",
      "4453    http://www.imdb.com/title/tt4063178/?ref_=fn_t...\n",
      "4692    http://www.imdb.com/title/tt1015471/?ref_=fn_t...\n",
      "5031    http://www.imdb.com/title/tt2049518/?ref_=fn_t...\n",
      "Name: movie_imdb_link, dtype: object\n"
     ]
    }
   ],
   "source": [
    "# Filtrer les lignes où la valeur de la colonne \"facenumber_in_poster\" est NaN\n",
    "movies_facenumber_nan = movie_data.loc[movie_data['facenumber_in_poster'].isnull()]\n",
    "\n",
    "# Afficher les movie_imdb_link de ces films\n",
    "print(movies_facenumber_nan['movie_imdb_link'])"
   ]
  },
  {
   "cell_type": "code",
   "execution_count": 270,
   "metadata": {},
   "outputs": [],
   "source": [
    "# Remplacer la valeur NaN dans la colonne \"facenumber_in_poster\" à l'index 99 par 1\n",
    "movie_data.loc[99, 'facenumber_in_poster'] = 1\n",
    "movie_data.loc[248, 'facenumber_in_poster'] = 4\n",
    "movie_data.loc[1948, 'facenumber_in_poster'] = 2\n",
    "movie_data.loc[3016, 'facenumber_in_poster'] = 1\n",
    "movie_data.loc[3373, 'facenumber_in_poster'] = 2\n",
    "movie_data.loc[3797, 'facenumber_in_poster'] = 2\n",
    "movie_data.loc[3853, 'facenumber_in_poster'] = 6\n",
    "movie_data.loc[4307, 'facenumber_in_poster'] = 7\n",
    "movie_data.loc[4444, 'facenumber_in_poster'] = 4\n",
    "movie_data.loc[4448, 'facenumber_in_poster'] = 1\n",
    "movie_data.loc[4453, 'facenumber_in_poster'] = 1\n",
    "movie_data.loc[4692, 'facenumber_in_poster'] = 4\n",
    "movie_data.loc[5031, 'facenumber_in_poster'] = 8\n"
   ]
  },
  {
   "cell_type": "markdown",
   "metadata": {},
   "source": [
    "Nan director name, actors"
   ]
  },
  {
   "cell_type": "code",
   "execution_count": 271,
   "metadata": {},
   "outputs": [],
   "source": [
    "# Remplacer les NaN dans la colonne 'director_name' par 'Unknown'\n",
    "movie_data['director_name'] = movie_data['director_name'].fillna('Unknown')\n",
    "movie_data['actor_2_name'] = movie_data['actor_2_name'].fillna('Unknown')\n",
    "movie_data['actor_1_name'] = movie_data['actor_1_name'].fillna('Unknown')\n",
    "movie_data['actor_3_name'] = movie_data['actor_3_name'].fillna('Unknown')\n"
   ]
  },
  {
   "cell_type": "code",
   "execution_count": 272,
   "metadata": {},
   "outputs": [
    {
     "name": "stdout",
     "output_type": "stream",
     "text": [
      "color: 0\n",
      "director_name: 0\n",
      "num_critic_for_reviews: 49\n",
      "duration: 0\n",
      "director_fb_likes: 102\n",
      "actor_3_fb_likes: 23\n",
      "actor_2_name: 0\n",
      "actor_1_fb_likes: 7\n",
      "gross: 0\n",
      "genres: 0\n",
      "actor_1_name: 0\n",
      "movie_title: 0\n",
      "num_voted_users: 0\n",
      "cast_total_fb_likes: 0\n",
      "actor_3_name: 0\n",
      "facenumber_in_poster: 0\n",
      "plot_keywords: 152\n",
      "movie_imdb_link: 0\n",
      "num_user_for_reviews: 21\n",
      "language: 2\n",
      "country: 0\n",
      "content_rating: 301\n",
      "budget: 0\n",
      "title_year: 106\n",
      "actor_2_fb_likes: 13\n",
      "imdb_score: 0\n",
      "aspect_ratio: 326\n",
      "movie_fb_likes: 0\n",
      "color_binary: 0\n"
     ]
    }
   ],
   "source": [
    "for column in movie_data.columns:\n",
    "    null_count = movie_data[column].isnull().sum()\n",
    "    print(f\"{column}: {null_count}\")"
   ]
  },
  {
   "cell_type": "code",
   "execution_count": 273,
   "metadata": {},
   "outputs": [],
   "source": [
    "# Enregistrer le DataFrame dans un nouveau fichier CSV\n",
    "movie_data.to_csv('Datas/5000_movie_correction.csv', index=False)"
   ]
  }
 ],
 "metadata": {
  "kernelspec": {
   "display_name": "IMDB",
   "language": "python",
   "name": "python3"
  },
  "language_info": {
   "codemirror_mode": {
    "name": "ipython",
    "version": 3
   },
   "file_extension": ".py",
   "mimetype": "text/x-python",
   "name": "python",
   "nbconvert_exporter": "python",
   "pygments_lexer": "ipython3",
   "version": "3.11.8"
  }
 },
 "nbformat": 4,
 "nbformat_minor": 2
}
