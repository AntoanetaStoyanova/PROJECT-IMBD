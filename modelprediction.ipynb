{
 "cells": [
  {
   "cell_type": "markdown",
   "id": "9ae50c00-ae32-4a16-a87b-1e38d63bec0c",
   "metadata": {},
   "source": [
    "**Step by step**\n",
    "\n",
    "1. Sélection et la division des caractéristiques\n",
    "\n",
    "Choix des caractéristiques les plus pertinentes qui sont susceptibles d'influencer la note IMDB d'un film\n",
    "\n",
    "2. Construction du modèle\n",
    "\n",
    "choix des modèles de prédiction \n",
    "    \n",
    "3. Entraînement et évaluation du modèle\n",
    "\n",
    "Entraînement : Entraîner le modèle sur less données IMDB.\n",
    "Évaluation : Évaluer la performance des modèles à l'aide de métriques telles que le RMSE (Root Mean Square Error)\n",
    "\n",
    "4. Optimisation du modèle \n",
    "\n",
    "Choix des techniques telles que la validation croisée et Grid Search pour optimiser les hyperparamètres du modèle\n"
   ]
  },
  {
   "cell_type": "code",
   "execution_count": 110,
   "id": "9fc33869-3c18-4d46-8934-beefe3cc55db",
   "metadata": {},
   "outputs": [],
   "source": [
    "import pandas as pd\n",
    "import seaborn as sns\n",
    "import matplotlib.pyplot as plt\n",
    "from sklearn.model_selection import train_test_split\n",
    "from sklearn.linear_model import LinearRegression\n",
    "from sklearn.metrics import mean_squared_error\n",
    "import numpy as np\n",
    "from sklearn.ensemble import RandomForestRegressor\n",
    "from sklearn.neural_network import MLPRegressor"
   ]
  },
  {
   "cell_type": "code",
   "execution_count": 111,
   "id": "34cb6779-ae18-4f46-ba33-2be9209099b0",
   "metadata": {},
   "outputs": [
    {
     "data": {
      "text/html": [
       "<div>\n",
       "<style scoped>\n",
       "    .dataframe tbody tr th:only-of-type {\n",
       "        vertical-align: middle;\n",
       "    }\n",
       "\n",
       "    .dataframe tbody tr th {\n",
       "        vertical-align: top;\n",
       "    }\n",
       "\n",
       "    .dataframe thead th {\n",
       "        text-align: right;\n",
       "    }\n",
       "</style>\n",
       "<table border=\"1\" class=\"dataframe\">\n",
       "  <thead>\n",
       "    <tr style=\"text-align: right;\">\n",
       "      <th></th>\n",
       "      <th>color</th>\n",
       "      <th>director_name</th>\n",
       "      <th>num_critic_for_reviews</th>\n",
       "      <th>duration</th>\n",
       "      <th>director_fb_likes</th>\n",
       "      <th>actor_3_fb_likes</th>\n",
       "      <th>actor_2_name</th>\n",
       "      <th>actor_1_fb_likes</th>\n",
       "      <th>gross</th>\n",
       "      <th>genres</th>\n",
       "      <th>...</th>\n",
       "      <th>language</th>\n",
       "      <th>country</th>\n",
       "      <th>content_rating</th>\n",
       "      <th>budget</th>\n",
       "      <th>title_year</th>\n",
       "      <th>actor_2_fb_likes</th>\n",
       "      <th>imdb_score</th>\n",
       "      <th>aspect_ratio</th>\n",
       "      <th>movie_fb_likes</th>\n",
       "      <th>color_binary</th>\n",
       "    </tr>\n",
       "  </thead>\n",
       "  <tbody>\n",
       "    <tr>\n",
       "      <th>0</th>\n",
       "      <td>Color</td>\n",
       "      <td>James Cameron</td>\n",
       "      <td>723.0</td>\n",
       "      <td>178.0</td>\n",
       "      <td>0.0</td>\n",
       "      <td>855.0</td>\n",
       "      <td>Joel David Moore</td>\n",
       "      <td>1000.0</td>\n",
       "      <td>760505847.0</td>\n",
       "      <td>Action|Adventure|Fantasy|Sci-Fi</td>\n",
       "      <td>...</td>\n",
       "      <td>English</td>\n",
       "      <td>USA</td>\n",
       "      <td>PG-13</td>\n",
       "      <td>237000000.0</td>\n",
       "      <td>2009.0</td>\n",
       "      <td>936.0</td>\n",
       "      <td>7.9</td>\n",
       "      <td>1.78</td>\n",
       "      <td>33000</td>\n",
       "      <td>1</td>\n",
       "    </tr>\n",
       "    <tr>\n",
       "      <th>1</th>\n",
       "      <td>Color</td>\n",
       "      <td>Gore Verbinski</td>\n",
       "      <td>302.0</td>\n",
       "      <td>169.0</td>\n",
       "      <td>563.0</td>\n",
       "      <td>1000.0</td>\n",
       "      <td>Orlando Bloom</td>\n",
       "      <td>40000.0</td>\n",
       "      <td>309404152.0</td>\n",
       "      <td>Action|Adventure|Fantasy</td>\n",
       "      <td>...</td>\n",
       "      <td>English</td>\n",
       "      <td>USA</td>\n",
       "      <td>PG-13</td>\n",
       "      <td>300000000.0</td>\n",
       "      <td>2007.0</td>\n",
       "      <td>5000.0</td>\n",
       "      <td>7.1</td>\n",
       "      <td>2.35</td>\n",
       "      <td>0</td>\n",
       "      <td>1</td>\n",
       "    </tr>\n",
       "    <tr>\n",
       "      <th>2</th>\n",
       "      <td>Color</td>\n",
       "      <td>Sam Mendes</td>\n",
       "      <td>602.0</td>\n",
       "      <td>148.0</td>\n",
       "      <td>0.0</td>\n",
       "      <td>161.0</td>\n",
       "      <td>Rory Kinnear</td>\n",
       "      <td>11000.0</td>\n",
       "      <td>200074175.0</td>\n",
       "      <td>Action|Adventure|Thriller</td>\n",
       "      <td>...</td>\n",
       "      <td>English</td>\n",
       "      <td>UK</td>\n",
       "      <td>PG-13</td>\n",
       "      <td>245000000.0</td>\n",
       "      <td>2015.0</td>\n",
       "      <td>393.0</td>\n",
       "      <td>6.8</td>\n",
       "      <td>2.35</td>\n",
       "      <td>85000</td>\n",
       "      <td>1</td>\n",
       "    </tr>\n",
       "    <tr>\n",
       "      <th>3</th>\n",
       "      <td>Color</td>\n",
       "      <td>Christopher Nolan</td>\n",
       "      <td>813.0</td>\n",
       "      <td>164.0</td>\n",
       "      <td>22000.0</td>\n",
       "      <td>23000.0</td>\n",
       "      <td>Christian Bale</td>\n",
       "      <td>27000.0</td>\n",
       "      <td>448130642.0</td>\n",
       "      <td>Action|Thriller</td>\n",
       "      <td>...</td>\n",
       "      <td>English</td>\n",
       "      <td>USA</td>\n",
       "      <td>PG-13</td>\n",
       "      <td>250000000.0</td>\n",
       "      <td>2012.0</td>\n",
       "      <td>23000.0</td>\n",
       "      <td>8.5</td>\n",
       "      <td>2.35</td>\n",
       "      <td>164000</td>\n",
       "      <td>1</td>\n",
       "    </tr>\n",
       "    <tr>\n",
       "      <th>4</th>\n",
       "      <td>Color</td>\n",
       "      <td>Andrew Stanton</td>\n",
       "      <td>462.0</td>\n",
       "      <td>132.0</td>\n",
       "      <td>475.0</td>\n",
       "      <td>530.0</td>\n",
       "      <td>Samantha Morton</td>\n",
       "      <td>640.0</td>\n",
       "      <td>73058679.0</td>\n",
       "      <td>Action|Adventure|Sci-Fi</td>\n",
       "      <td>...</td>\n",
       "      <td>English</td>\n",
       "      <td>USA</td>\n",
       "      <td>PG-13</td>\n",
       "      <td>263700000.0</td>\n",
       "      <td>2012.0</td>\n",
       "      <td>632.0</td>\n",
       "      <td>6.6</td>\n",
       "      <td>2.35</td>\n",
       "      <td>24000</td>\n",
       "      <td>1</td>\n",
       "    </tr>\n",
       "  </tbody>\n",
       "</table>\n",
       "<p>5 rows × 29 columns</p>\n",
       "</div>"
      ],
      "text/plain": [
       "   color      director_name  num_critic_for_reviews  duration  \\\n",
       "0  Color      James Cameron                   723.0     178.0   \n",
       "1  Color     Gore Verbinski                   302.0     169.0   \n",
       "2  Color         Sam Mendes                   602.0     148.0   \n",
       "3  Color  Christopher Nolan                   813.0     164.0   \n",
       "4  Color     Andrew Stanton                   462.0     132.0   \n",
       "\n",
       "   director_fb_likes  actor_3_fb_likes      actor_2_name  actor_1_fb_likes  \\\n",
       "0                0.0             855.0  Joel David Moore            1000.0   \n",
       "1              563.0            1000.0     Orlando Bloom           40000.0   \n",
       "2                0.0             161.0      Rory Kinnear           11000.0   \n",
       "3            22000.0           23000.0    Christian Bale           27000.0   \n",
       "4              475.0             530.0   Samantha Morton             640.0   \n",
       "\n",
       "         gross                           genres  ... language country  \\\n",
       "0  760505847.0  Action|Adventure|Fantasy|Sci-Fi  ...  English     USA   \n",
       "1  309404152.0         Action|Adventure|Fantasy  ...  English     USA   \n",
       "2  200074175.0        Action|Adventure|Thriller  ...  English      UK   \n",
       "3  448130642.0                  Action|Thriller  ...  English     USA   \n",
       "4   73058679.0          Action|Adventure|Sci-Fi  ...  English     USA   \n",
       "\n",
       "   content_rating       budget title_year  actor_2_fb_likes imdb_score  \\\n",
       "0           PG-13  237000000.0     2009.0             936.0        7.9   \n",
       "1           PG-13  300000000.0     2007.0            5000.0        7.1   \n",
       "2           PG-13  245000000.0     2015.0             393.0        6.8   \n",
       "3           PG-13  250000000.0     2012.0           23000.0        8.5   \n",
       "4           PG-13  263700000.0     2012.0             632.0        6.6   \n",
       "\n",
       "  aspect_ratio  movie_fb_likes color_binary  \n",
       "0         1.78           33000            1  \n",
       "1         2.35               0            1  \n",
       "2         2.35           85000            1  \n",
       "3         2.35          164000            1  \n",
       "4         2.35           24000            1  \n",
       "\n",
       "[5 rows x 29 columns]"
      ]
     },
     "execution_count": 111,
     "metadata": {},
     "output_type": "execute_result"
    }
   ],
   "source": [
    "# URL fournie\n",
    "dataset_url = \"https://raw.githubusercontent.com/AntoanetaStoyanova/PROJECT-IMBD/main/Datas/5000_movie_correction.csv\"\n",
    "\n",
    "# Chargement des données\n",
    "df = pd.read_csv(dataset_url)\n",
    "df.head(5)"
   ]
  },
  {
   "cell_type": "markdown",
   "id": "f034f52e-f0e4-4886-860b-611f407f9bb9",
   "metadata": {},
   "source": [
    "Selection de la cible"
   ]
  },
  {
   "cell_type": "code",
   "execution_count": 112,
   "id": "a42f40bb-cc43-40c7-a17b-8ff21cc6095d",
   "metadata": {},
   "outputs": [],
   "source": [
    "# Sélection des caractéristiques et de la cible\n",
    "features = ['num_critic_for_reviews', 'director_fb_likes', 'cast_total_fb_likes','gross','num_user_for_reviews','budget' ,'duration', 'title_year', 'movie_fb_likes'] \n",
    "target = 'imdb_score'  \n"
   ]
  },
  {
   "cell_type": "markdown",
   "id": "8c97b307-5e77-4c0e-afca-4452a412c15e",
   "metadata": {},
   "source": [
    "Division des données"
   ]
  },
  {
   "cell_type": "code",
   "execution_count": 113,
   "id": "5d6a41f1-36c1-402f-b5bf-de98c1b6429e",
   "metadata": {},
   "outputs": [],
   "source": [
    "# Division des données\n",
    "X = df[features]\n",
    "y =df[target]\n",
    "\n",
    "X_train, X_test, y_train, y_test = train_test_split(X, y, test_size=0.2, random_state=42)\n"
   ]
  },
  {
   "cell_type": "markdown",
   "id": "e3f3be47-81b3-46f3-85d1-88348c2677cc",
   "metadata": {},
   "source": [
    "Normalisation des caractéristiques"
   ]
  },
  {
   "cell_type": "code",
   "execution_count": 114,
   "id": "27519360-9604-4d96-add8-4e353c2087fe",
   "metadata": {},
   "outputs": [],
   "source": [
    "# Normalisation des caractéristiques\n",
    "scaler = StandardScaler()\n",
    "X_train_scaled = scaler.fit_transform(X_train)\n",
    "X_test_scaled = scaler.transform(X_test)"
   ]
  },
  {
   "cell_type": "markdown",
   "id": "21cd1af3-1691-4e06-b4c4-9883826bcdb4",
   "metadata": {},
   "source": [
    "Evaluation des modèles"
   ]
  },
  {
   "cell_type": "code",
   "execution_count": 115,
   "id": "0430b74e-7cc8-481f-a1cb-9d05177c369d",
   "metadata": {},
   "outputs": [
    {
     "name": "stdout",
     "output_type": "stream",
     "text": [
      "RMSE (Régression Linéaire): 0.9797233264700416\n",
      "R² (Régression Linéaire): 0.26620106530990784\n"
     ]
    }
   ],
   "source": [
    "# Entraînement et évaluation du modèle de Régression Linéaire\n",
    "linear_model = LinearRegression()\n",
    "linear_model.fit(X_train_scaled, y_train)\n",
    "y_pred_linear = linear_model.predict(X_test_scaled)\n",
    "\n",
    "# Calcul des métriques\n",
    "rmse_linear = np.sqrt(mean_squared_error(y_test, y_pred_linear))\n",
    "r2_linear = r2_score(y_test, y_pred_linear)\n",
    "\n",
    "print(f'RMSE (Régression Linéaire): {rmse_linear}')\n",
    "print(f'R² (Régression Linéaire): {r2_linear}')\n"
   ]
  },
  {
   "cell_type": "code",
   "execution_count": 116,
   "id": "cccded84-67e8-4904-9d36-077d6ee63329",
   "metadata": {},
   "outputs": [
    {
     "name": "stdout",
     "output_type": "stream",
     "text": [
      "RMSE (Forêt Aléatoire): 0.8274647845277212\n",
      "R² (Forêt Aléatoire): 0.4765572123595002\n"
     ]
    }
   ],
   "source": [
    "# Entraînement et évaluation du modèle plus complexe, comme une Forêt Aléatoire\n",
    "rf_model = RandomForestRegressor(random_state=42)\n",
    "rf_model.fit(X_train_scaled, y_train)\n",
    "y_pred_rf = rf_model.predict(X_test_scaled)\n",
    "\n",
    "rmse_rf = np.sqrt(mean_squared_error(y_test, y_pred_rf))\n",
    "r2_rf = r2_score(y_test, y_pred_rf)\n",
    "\n",
    "print(f'RMSE (Forêt Aléatoire): {rmse_rf}')\n",
    "print(f'R² (Forêt Aléatoire): {r2_rf}')"
   ]
  },
  {
   "cell_type": "code",
   "execution_count": 117,
   "id": "f4ed2e71-23e5-43d8-856c-48acc62307f8",
   "metadata": {},
   "outputs": [
    {
     "name": "stdout",
     "output_type": "stream",
     "text": [
      "RMSE (Meilleure Forêt Aléatoire): 0.8222157961622437\n",
      "R² (Meilleure Forêt Aléatoire): 0.48317702430708065\n"
     ]
    }
   ],
   "source": [
    "# Grid Search pour les meilleurs hyperparamètres\n",
    "parameters = {'n_estimators': [100, 200], 'max_depth': [10, 20, None]}\n",
    "grid_search = GridSearchCV(rf_model, parameters, cv=5, scoring='neg_mean_squared_error')\n",
    "grid_search.fit(X_train_scaled, y_train)\n",
    "\n",
    "best_rf_model = grid_search.best_estimator_\n",
    "y_pred_best_rf = best_rf_model.predict(X_test_scaled)\n",
    "rmse_best_rf = np.sqrt(mean_squared_error(y_test, y_pred_best_rf))\n",
    "r2_best_rf = r2_score(y_test, y_pred_best_rf)\n",
    "\n",
    "print(f'RMSE (Meilleure Forêt Aléatoire): {rmse_best_rf}')\n",
    "print(f'R² (Meilleure Forêt Aléatoire): {r2_best_rf}')"
   ]
  },
  {
   "cell_type": "markdown",
   "id": "65703909-e906-4ec8-bce5-97105e34a4c0",
   "metadata": {},
   "source": [
    "Choix du modele"
   ]
  },
  {
   "cell_type": "code",
   "execution_count": 118,
   "id": "7c82b61a-bbcb-4fab-a89d-5a2ee03982f2",
   "metadata": {},
   "outputs": [
    {
     "name": "stdout",
     "output_type": "stream",
     "text": [
      "RMSE (Forêt Aléatoire): 0.9797233264700416\n",
      "R² (Forêt Aléatoire): 0.26620106530990784\n"
     ]
    }
   ],
   "source": [
    "# Entraînement du modele retenu\n",
    "model = LinearRegression()\n",
    "model.fit(X_train_scaled, y_train)\n",
    "\n",
    "# Prédiction sur l'ensemble de test\n",
    "y_pred = model.predict(X_test_scaled)\n",
    "\n",
    "# Calcul du RMSE (Root Mean Square Error) et R2\n",
    "rmse = np.sqrt(mean_squared_error(y_test, y_pred))\n",
    "r2 = r2_score(y_test, y_pred)\n",
    "\n",
    "print(f'RMSE (Forêt Aléatoire): {rmse}')\n",
    "print(f'R² (Forêt Aléatoire): {r2}')"
   ]
  },
  {
   "cell_type": "markdown",
   "id": "900a2aa7-4302-4de6-929b-a462c5ca9af5",
   "metadata": {},
   "source": [
    "Sauvegarde du modèle pour le déployer dans une application"
   ]
  },
  {
   "cell_type": "code",
   "execution_count": 119,
   "id": "102ee63d-2dec-43ca-b48f-8f704e797095",
   "metadata": {},
   "outputs": [],
   "source": [
    "from joblib import dump, load\n",
    "\n",
    "# Sauvegarde du modèle dans un fichier\n",
    "dump(modele, 'modeleIMDB.joblib')\n",
    "\n",
    "# Pour charger le modèle plus tard\n",
    "modele_charge = load('modeleIMDB.joblib')"
   ]
  },
  {
   "cell_type": "markdown",
   "id": "ac546015-d3d2-4fb8-8de1-3708cb70e5bc",
   "metadata": {},
   "source": [
    "Afficher les Prédictions et les Valeurs Réelles"
   ]
  },
  {
   "cell_type": "code",
   "execution_count": 120,
   "id": "5b6fb9b7-95a0-4fe0-9173-021952e9cb29",
   "metadata": {},
   "outputs": [
    {
     "name": "stdout",
     "output_type": "stream",
     "text": [
      "      Réel    Prédit\n",
      "33     6.8  6.809226\n",
      "555    7.1  6.546187\n",
      "4692   7.0  5.680693\n",
      "3131   3.8  5.709683\n",
      "3921   5.3  6.185923\n",
      "...    ...       ...\n",
      "314    6.9  6.624518\n",
      "4352   7.2  6.634145\n",
      "1872   6.3  6.119946\n",
      "627    6.2  6.435951\n",
      "2813   7.7  6.969187\n",
      "\n",
      "[955 rows x 2 columns]\n"
     ]
    }
   ],
   "source": [
    "\n",
    "# Comparer les valeurs réelles et prédites\n",
    "df_predictions = pd.DataFrame({'Réel': y_test, 'Prédit': y_pred})\n",
    "print(df_predictions)\n"
   ]
  },
  {
   "cell_type": "markdown",
   "id": "064d52e1-9bc9-4f7d-a4ce-24535f9650a9",
   "metadata": {},
   "source": [
    "Visualiser les Résultats"
   ]
  },
  {
   "cell_type": "code",
   "execution_count": 121,
   "id": "e552d075-db90-4695-aabf-5118f4ae5d8a",
   "metadata": {},
   "outputs": [
    {
     "data": {
      "image/png": "[encoded data removed]",
      "text/plain": [
       "<Figure size 1000x600 with 1 Axes>"
      ]
     },
     "metadata": {},
     "output_type": "display_data"
    }
   ],
   "source": [
    "plt.figure(figsize=(10, 6))\n",
    "plt.scatter(y_test, y_pred)\n",
    "plt.xlabel('Valeurs Réelles')\n",
    "plt.ylabel('Prédictions')\n",
    "plt.title('Valeurs Réelles vs Prédictions')\n",
    "plt.show()\n"
   ]
  },
  {
   "cell_type": "markdown",
   "id": "5282e264-3701-4283-929e-51776ee2c590",
   "metadata": {},
   "source": [
    "Analyser les Résidus\n",
    "Les résidus (la différence entre les valeurs réelles et prédites) peuvent donner des informations sur la performance du modèle."
   ]
  },
  {
   "cell_type": "code",
   "execution_count": 122,
   "id": "332d633b-f0bd-4c6a-acb0-71c591a90555",
   "metadata": {},
   "outputs": [
    {
     "data": {
      "image/png": "[encoded data removed]",
      "text/plain": [
       "<Figure size 1000x600 with 1 Axes>"
      ]
     },
     "metadata": {},
     "output_type": "display_data"
    }
   ],
   "source": [
    "# Calcul des résidus\n",
    "residus = y_test - y_pred\n",
    "\n",
    "plt.figure(figsize=(10, 6))\n",
    "plt.scatter(y_pred, residus)\n",
    "plt.xlabel('Prédictions')\n",
    "plt.ylabel('Résidus')\n",
    "plt.title('Prédictions vs Résidus')\n",
    "plt.axhline(y=0, color='r', linestyle='-')\n",
    "plt.show()\n"
   ]
  },
  {
   "cell_type": "markdown",
   "id": "1487c243-aeab-4b9e-b86f-84abfd5eaffe",
   "metadata": {},
   "source": [
    "Évaluer la Distribution des Erreurs\n",
    "Vérifiez la distribution des erreurs (résidus) pour voir si elles sont normalement distribuées, ce qui est une bonne indication que le modèle fonctionne bien"
   ]
  },
  {
   "cell_type": "code",
   "execution_count": 123,
   "id": "5d46a557-fc19-476f-9052-0a3bb4d1c01b",
   "metadata": {},
   "outputs": [
    {
     "data": {
      "image/png": "[encoded data removed]",
      "text/plain": [
       "<Figure size 1000x600 with 1 Axes>"
      ]
     },
     "metadata": {},
     "output_type": "display_data"
    }
   ],
   "source": [
    "plt.figure(figsize=(10, 6))\n",
    "plt.hist(residus, bins=20, edgecolor='black')\n",
    "plt.xlabel('Résidus')\n",
    "plt.title('Distribution des Résidus')\n",
    "plt.show()\n"
   ]
  },
  {
   "cell_type": "code",
   "execution_count": 124,
   "id": "db874b8b-1bcd-4268-abf0-1745deafdccb",
   "metadata": {},
   "outputs": [
    {
     "data": {
      "text/html": [
       "<div>\n",
       "<style scoped>\n",
       "    .dataframe tbody tr th:only-of-type {\n",
       "        vertical-align: middle;\n",
       "    }\n",
       "\n",
       "    .dataframe tbody tr th {\n",
       "        vertical-align: top;\n",
       "    }\n",
       "\n",
       "    .dataframe thead th {\n",
       "        text-align: right;\n",
       "    }\n",
       "</style>\n",
       "<table border=\"1\" class=\"dataframe\">\n",
       "  <thead>\n",
       "    <tr style=\"text-align: right;\">\n",
       "      <th></th>\n",
       "      <th>Réel</th>\n",
       "      <th>Prédit</th>\n",
       "    </tr>\n",
       "  </thead>\n",
       "  <tbody>\n",
       "    <tr>\n",
       "      <th>count</th>\n",
       "      <td>955.000000</td>\n",
       "      <td>955.000000</td>\n",
       "    </tr>\n",
       "    <tr>\n",
       "      <th>mean</th>\n",
       "      <td>6.389948</td>\n",
       "      <td>6.438303</td>\n",
       "    </tr>\n",
       "    <tr>\n",
       "      <th>std</th>\n",
       "      <td>1.144307</td>\n",
       "      <td>0.619536</td>\n",
       "    </tr>\n",
       "    <tr>\n",
       "      <th>min</th>\n",
       "      <td>1.700000</td>\n",
       "      <td>1.623249</td>\n",
       "    </tr>\n",
       "    <tr>\n",
       "      <th>25%</th>\n",
       "      <td>5.800000</td>\n",
       "      <td>6.041529</td>\n",
       "    </tr>\n",
       "    <tr>\n",
       "      <th>50%</th>\n",
       "      <td>6.500000</td>\n",
       "      <td>6.334757</td>\n",
       "    </tr>\n",
       "    <tr>\n",
       "      <th>75%</th>\n",
       "      <td>7.200000</td>\n",
       "      <td>6.727859</td>\n",
       "    </tr>\n",
       "    <tr>\n",
       "      <th>max</th>\n",
       "      <td>9.200000</td>\n",
       "      <td>10.199233</td>\n",
       "    </tr>\n",
       "  </tbody>\n",
       "</table>\n",
       "</div>"
      ],
      "text/plain": [
       "             Réel      Prédit\n",
       "count  955.000000  955.000000\n",
       "mean     6.389948    6.438303\n",
       "std      1.144307    0.619536\n",
       "min      1.700000    1.623249\n",
       "25%      5.800000    6.041529\n",
       "50%      6.500000    6.334757\n",
       "75%      7.200000    6.727859\n",
       "max      9.200000   10.199233"
      ]
     },
     "execution_count": 124,
     "metadata": {},
     "output_type": "execute_result"
    }
   ],
   "source": [
    "df_predictions.describe()\n"
   ]
  }
 ],
 "metadata": {
  "kernelspec": {
   "display_name": "Python 3 (ipykernel)",
   "language": "python",
   "name": "python3"
  },
  "language_info": {
   "codemirror_mode": {
    "name": "ipython",
    "version": 3
   },
   "file_extension": ".py",
   "mimetype": "text/x-python",
   "name": "python",
   "nbconvert_exporter": "python",
   "pygments_lexer": "ipython3",
   "version": "3.10.9"
  }
 },
 "nbformat": 4,
 "nbformat_minor": 5
}
