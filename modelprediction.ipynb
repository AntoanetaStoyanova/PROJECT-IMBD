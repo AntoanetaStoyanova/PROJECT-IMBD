{
 "cells": [
  {
   "cell_type": "markdown",
   "id": "9ae50c00-ae32-4a16-a87b-1e38d63bec0c",
   "metadata": {},
   "source": [
    "**Step by step**\n",
    "\n",
    "1. Sélection et la division des caractéristiques\n",
    "\n",
    "Choix des caractéristiques les plus pertinentes qui sont susceptibles d'influencer la note IMDB d'un film.\n",
    "\n",
    "2. Construction du modèle\n",
    "\n",
    "choix des modèles de prédiction :\n",
    "\n",
    "    - Régression linéaire : pour des relations linéaires simples.\n",
    "    \n",
    "    - Forêts aléatoires : pour capturer des relations plus complexes.\n",
    "    \n",
    "    - Réseaux de neurones : pour des modèles plus sophistiqués et des grandes quantités de données.\n",
    "    \n",
    "3. Entraînement et évaluation du modèle\n",
    "\n",
    "Entraînement : Entraîner le modèle sur less données IMDB.\n",
    "Évaluation : Évaluer la performance des modèles à l'aide de métriques telles que le RMSE (Root Mean Square Error).\n",
    "\n",
    "4. Optimisation du modèle \n",
    "\n",
    "Choix des techniques telles que la validation croisée et Grid Search pour optimiser les hyperparamètres du modèle .\n",
    "\n",
    "5. Faire des prédictions\n",
    "\n",
    "Avec le modèle entraîné, réaliser des prédictions de notes IMDB pour de nouveaux films "
   ]
  },
  {
   "cell_type": "code",
   "execution_count": 40,
   "id": "9fc33869-3c18-4d46-8934-beefe3cc55db",
   "metadata": {},
   "outputs": [],
   "source": [
    "import pandas as pd\n",
    "import seaborn as sns\n",
    "import matplotlib.pyplot as plt\n",
    "from sklearn.model_selection import train_test_split\n",
    "from sklearn.linear_model import LinearRegression\n",
    "from sklearn.metrics import mean_squared_error\n",
    "import numpy as np\n",
    "from sklearn.ensemble import RandomForestRegressor\n",
    "from sklearn.neural_network import MLPRegressor"
   ]
  },
  {
   "cell_type": "code",
   "execution_count": 41,
   "id": "34cb6779-ae18-4f46-ba33-2be9209099b0",
   "metadata": {},
   "outputs": [
    {
     "data": {
      "text/html": [
       "<div>\n",
       "<style scoped>\n",
       "    .dataframe tbody tr th:only-of-type {\n",
       "        vertical-align: middle;\n",
       "    }\n",
       "\n",
       "    .dataframe tbody tr th {\n",
       "        vertical-align: top;\n",
       "    }\n",
       "\n",
       "    .dataframe thead th {\n",
       "        text-align: right;\n",
       "    }\n",
       "</style>\n",
       "<table border=\"1\" class=\"dataframe\">\n",
       "  <thead>\n",
       "    <tr style=\"text-align: right;\">\n",
       "      <th></th>\n",
       "      <th>color</th>\n",
       "      <th>director_name</th>\n",
       "      <th>num_critic_for_reviews</th>\n",
       "      <th>duration</th>\n",
       "      <th>director_fb_likes</th>\n",
       "      <th>actor_3_fb_likes</th>\n",
       "      <th>actor_2_name</th>\n",
       "      <th>actor_1_fb_likes</th>\n",
       "      <th>gross</th>\n",
       "      <th>genres</th>\n",
       "      <th>...</th>\n",
       "      <th>language</th>\n",
       "      <th>country</th>\n",
       "      <th>content_rating</th>\n",
       "      <th>budget</th>\n",
       "      <th>title_year</th>\n",
       "      <th>actor_2_fb_likes</th>\n",
       "      <th>imdb_score</th>\n",
       "      <th>aspect_ratio</th>\n",
       "      <th>movie_fb_likes</th>\n",
       "      <th>color_binary</th>\n",
       "    </tr>\n",
       "  </thead>\n",
       "  <tbody>\n",
       "    <tr>\n",
       "      <th>0</th>\n",
       "      <td>Color</td>\n",
       "      <td>James Cameron</td>\n",
       "      <td>723.0</td>\n",
       "      <td>178.0</td>\n",
       "      <td>0.0</td>\n",
       "      <td>855.0</td>\n",
       "      <td>Joel David Moore</td>\n",
       "      <td>1000.0</td>\n",
       "      <td>760505847.0</td>\n",
       "      <td>Action|Adventure|Fantasy|Sci-Fi</td>\n",
       "      <td>...</td>\n",
       "      <td>English</td>\n",
       "      <td>USA</td>\n",
       "      <td>PG-13</td>\n",
       "      <td>237000000.0</td>\n",
       "      <td>2009.0</td>\n",
       "      <td>936.0</td>\n",
       "      <td>7.9</td>\n",
       "      <td>1.78</td>\n",
       "      <td>33000</td>\n",
       "      <td>1</td>\n",
       "    </tr>\n",
       "    <tr>\n",
       "      <th>1</th>\n",
       "      <td>Color</td>\n",
       "      <td>Gore Verbinski</td>\n",
       "      <td>302.0</td>\n",
       "      <td>169.0</td>\n",
       "      <td>563.0</td>\n",
       "      <td>1000.0</td>\n",
       "      <td>Orlando Bloom</td>\n",
       "      <td>40000.0</td>\n",
       "      <td>309404152.0</td>\n",
       "      <td>Action|Adventure|Fantasy</td>\n",
       "      <td>...</td>\n",
       "      <td>English</td>\n",
       "      <td>USA</td>\n",
       "      <td>PG-13</td>\n",
       "      <td>300000000.0</td>\n",
       "      <td>2007.0</td>\n",
       "      <td>5000.0</td>\n",
       "      <td>7.1</td>\n",
       "      <td>2.35</td>\n",
       "      <td>0</td>\n",
       "      <td>1</td>\n",
       "    </tr>\n",
       "    <tr>\n",
       "      <th>2</th>\n",
       "      <td>Color</td>\n",
       "      <td>Sam Mendes</td>\n",
       "      <td>602.0</td>\n",
       "      <td>148.0</td>\n",
       "      <td>0.0</td>\n",
       "      <td>161.0</td>\n",
       "      <td>Rory Kinnear</td>\n",
       "      <td>11000.0</td>\n",
       "      <td>200074175.0</td>\n",
       "      <td>Action|Adventure|Thriller</td>\n",
       "      <td>...</td>\n",
       "      <td>English</td>\n",
       "      <td>UK</td>\n",
       "      <td>PG-13</td>\n",
       "      <td>245000000.0</td>\n",
       "      <td>2015.0</td>\n",
       "      <td>393.0</td>\n",
       "      <td>6.8</td>\n",
       "      <td>2.35</td>\n",
       "      <td>85000</td>\n",
       "      <td>1</td>\n",
       "    </tr>\n",
       "    <tr>\n",
       "      <th>3</th>\n",
       "      <td>Color</td>\n",
       "      <td>Christopher Nolan</td>\n",
       "      <td>813.0</td>\n",
       "      <td>164.0</td>\n",
       "      <td>22000.0</td>\n",
       "      <td>23000.0</td>\n",
       "      <td>Christian Bale</td>\n",
       "      <td>27000.0</td>\n",
       "      <td>448130642.0</td>\n",
       "      <td>Action|Thriller</td>\n",
       "      <td>...</td>\n",
       "      <td>English</td>\n",
       "      <td>USA</td>\n",
       "      <td>PG-13</td>\n",
       "      <td>250000000.0</td>\n",
       "      <td>2012.0</td>\n",
       "      <td>23000.0</td>\n",
       "      <td>8.5</td>\n",
       "      <td>2.35</td>\n",
       "      <td>164000</td>\n",
       "      <td>1</td>\n",
       "    </tr>\n",
       "    <tr>\n",
       "      <th>4</th>\n",
       "      <td>Color</td>\n",
       "      <td>Andrew Stanton</td>\n",
       "      <td>462.0</td>\n",
       "      <td>132.0</td>\n",
       "      <td>475.0</td>\n",
       "      <td>530.0</td>\n",
       "      <td>Samantha Morton</td>\n",
       "      <td>640.0</td>\n",
       "      <td>73058679.0</td>\n",
       "      <td>Action|Adventure|Sci-Fi</td>\n",
       "      <td>...</td>\n",
       "      <td>English</td>\n",
       "      <td>USA</td>\n",
       "      <td>PG-13</td>\n",
       "      <td>263700000.0</td>\n",
       "      <td>2012.0</td>\n",
       "      <td>632.0</td>\n",
       "      <td>6.6</td>\n",
       "      <td>2.35</td>\n",
       "      <td>24000</td>\n",
       "      <td>1</td>\n",
       "    </tr>\n",
       "  </tbody>\n",
       "</table>\n",
       "<p>5 rows × 29 columns</p>\n",
       "</div>"
      ],
      "text/plain": [
       "   color      director_name  num_critic_for_reviews  duration  \\\n",
       "0  Color      James Cameron                   723.0     178.0   \n",
       "1  Color     Gore Verbinski                   302.0     169.0   \n",
       "2  Color         Sam Mendes                   602.0     148.0   \n",
       "3  Color  Christopher Nolan                   813.0     164.0   \n",
       "4  Color     Andrew Stanton                   462.0     132.0   \n",
       "\n",
       "   director_fb_likes  actor_3_fb_likes      actor_2_name  actor_1_fb_likes  \\\n",
       "0                0.0             855.0  Joel David Moore            1000.0   \n",
       "1              563.0            1000.0     Orlando Bloom           40000.0   \n",
       "2                0.0             161.0      Rory Kinnear           11000.0   \n",
       "3            22000.0           23000.0    Christian Bale           27000.0   \n",
       "4              475.0             530.0   Samantha Morton             640.0   \n",
       "\n",
       "         gross                           genres  ... language country  \\\n",
       "0  760505847.0  Action|Adventure|Fantasy|Sci-Fi  ...  English     USA   \n",
       "1  309404152.0         Action|Adventure|Fantasy  ...  English     USA   \n",
       "2  200074175.0        Action|Adventure|Thriller  ...  English      UK   \n",
       "3  448130642.0                  Action|Thriller  ...  English     USA   \n",
       "4   73058679.0          Action|Adventure|Sci-Fi  ...  English     USA   \n",
       "\n",
       "   content_rating       budget title_year  actor_2_fb_likes imdb_score  \\\n",
       "0           PG-13  237000000.0     2009.0             936.0        7.9   \n",
       "1           PG-13  300000000.0     2007.0            5000.0        7.1   \n",
       "2           PG-13  245000000.0     2015.0             393.0        6.8   \n",
       "3           PG-13  250000000.0     2012.0           23000.0        8.5   \n",
       "4           PG-13  263700000.0     2012.0             632.0        6.6   \n",
       "\n",
       "  aspect_ratio  movie_fb_likes color_binary  \n",
       "0         1.78           33000            1  \n",
       "1         2.35               0            1  \n",
       "2         2.35           85000            1  \n",
       "3         2.35          164000            1  \n",
       "4         2.35           24000            1  \n",
       "\n",
       "[5 rows x 29 columns]"
      ]
     },
     "execution_count": 41,
     "metadata": {},
     "output_type": "execute_result"
    }
   ],
   "source": [
    "# URL fournie\n",
    "dataset_url = \"https://raw.githubusercontent.com/AntoanetaStoyanova/PROJECT-IMBD/main/Datas/5000_movie_correction.csv\"\n",
    "\n",
    "# Chargement des données\n",
    "df = pd.read_csv(dataset_url)\n",
    "df.head(5)"
   ]
  },
  {
   "cell_type": "markdown",
   "id": "f034f52e-f0e4-4886-860b-611f407f9bb9",
   "metadata": {},
   "source": [
    "Selection de la cible"
   ]
  },
  {
   "cell_type": "code",
   "execution_count": 42,
   "id": "a42f40bb-cc43-40c7-a17b-8ff21cc6095d",
   "metadata": {},
   "outputs": [],
   "source": [
    "# Sélection des caractéristiques et de la cible\n",
    "features = ['num_critic_for_reviews', 'director_fb_likes', 'cast_total_fb_likes','gross','num_user_for_reviews','budget' ,'duration', 'title_year', 'movie_fb_likes']  # Exemple de caractéristiques\n",
    "target = 'imdb_score'  # Exemple de variable cible\n"
   ]
  },
  {
   "cell_type": "markdown",
   "id": "8c97b307-5e77-4c0e-afca-4452a412c15e",
   "metadata": {},
   "source": [
    "Division des données"
   ]
  },
  {
   "cell_type": "code",
   "execution_count": 43,
   "id": "5d6a41f1-36c1-402f-b5bf-de98c1b6429e",
   "metadata": {},
   "outputs": [],
   "source": [
    "# Division des données\n",
    "X = df[features]\n",
    "y =df[target]\n",
    "\n",
    "X_train, X_test, y_train, y_test = train_test_split(X, y, test_size=0.2, random_state=42)\n"
   ]
  },
  {
   "cell_type": "markdown",
   "id": "21cd1af3-1691-4e06-b4c4-9883826bcdb4",
   "metadata": {},
   "source": [
    "Evaluation des modèles"
   ]
  },
  {
   "cell_type": "code",
   "execution_count": 44,
   "id": "0430b74e-7cc8-481f-a1cb-9d05177c369d",
   "metadata": {},
   "outputs": [],
   "source": [
    "# Entraînement et évaluation du modèle de Régression Linéaire\n",
    "linear_model = LinearRegression()\n",
    "linear_model.fit(X_train, y_train)\n",
    "y_pred_linear = linear_model.predict(X_test)\n",
    "rmse_linear = np.sqrt(mean_squared_error(y_test, y_pred_linear))\n"
   ]
  },
  {
   "cell_type": "code",
   "execution_count": 45,
   "id": "cccded84-67e8-4904-9d36-077d6ee63329",
   "metadata": {},
   "outputs": [],
   "source": [
    "# Entraînement et évaluation du modèle Random Forest\n",
    "random_forest_model = RandomForestRegressor(random_state=42)\n",
    "random_forest_model.fit(X_train, y_train)\n",
    "y_pred_rf = random_forest_model.predict(X_test)\n",
    "rmse_rf = np.sqrt(mean_squared_error(y_test, y_pred_rf))"
   ]
  },
  {
   "cell_type": "code",
   "execution_count": 46,
   "id": "f4ed2e71-23e5-43d8-856c-48acc62307f8",
   "metadata": {},
   "outputs": [],
   "source": [
    "# Entraînement et évaluation du modèle Neural Network\n",
    "neural_network_model = MLPRegressor(random_state=42)\n",
    "neural_network_model.fit(X_train, y_train)\n",
    "y_pred_nn = neural_network_model.predict(X_test)\n",
    "rmse_nn = np.sqrt(mean_squared_error(y_test, y_pred_nn))"
   ]
  },
  {
   "cell_type": "code",
   "execution_count": 47,
   "id": "33206b34-2346-46e9-8f76-4ada46224e49",
   "metadata": {},
   "outputs": [
    {
     "name": "stdout",
     "output_type": "stream",
     "text": [
      "Régression Linéaire RMSE: 0.9797233264697571\n",
      "Random Forest RMSE: 0.8281220127872627\n",
      "Réseau de Neurones RMSE: 630678.4308068973\n"
     ]
    }
   ],
   "source": [
    "print(f\"Régression Linéaire RMSE: {rmse_linear}\")\n",
    "print(f\"Random Forest RMSE: {rmse_rf}\")\n",
    "print(f\"Réseau de Neurones RMSE: {rmse_nn}\")"
   ]
  },
  {
   "cell_type": "markdown",
   "id": "65703909-e906-4ec8-bce5-97105e34a4c0",
   "metadata": {},
   "source": [
    "Choix du modele"
   ]
  },
  {
   "cell_type": "code",
   "execution_count": 51,
   "id": "e5e62442-fdd1-42c1-8610-937a7c5465f5",
   "metadata": {},
   "outputs": [
    {
     "name": "stdout",
     "output_type": "stream",
     "text": [
      "RMSE: 0.9797233264697571\n"
     ]
    }
   ],
   "source": [
    "# Entraînement du modele retenu\n",
    "modele = LinearRegression()\n",
    "modele.fit(X_train, y_train)\n",
    "\n",
    "# Prédiction sur l'ensemble de test\n",
    "y_pred = modele.predict(X_test)\n",
    "\n",
    "# Calcul du RMSE (Root Mean Square Error)\n",
    "rmse = np.sqrt(mean_squared_error(y_test, y_pred))\n",
    "print(f'RMSE: {rmse}')"
   ]
  },
  {
   "cell_type": "markdown",
   "id": "900a2aa7-4302-4de6-929b-a462c5ca9af5",
   "metadata": {},
   "source": [
    "Sauvegarde du modèle pour le déployer dans une application"
   ]
  },
  {
   "cell_type": "code",
   "execution_count": 49,
   "id": "102ee63d-2dec-43ca-b48f-8f704e797095",
   "metadata": {},
   "outputs": [],
   "source": [
    "from joblib import dump, load\n",
    "\n",
    "# Sauvegarde du modèle dans un fichier\n",
    "dump(modele, 'modeleIMDB.joblib')\n",
    "\n",
    "# Pour charger le modèle plus tard\n",
    "modele_charge = load('modeleIMDB.joblib')"
   ]
  },
  {
   "cell_type": "code",
   "execution_count": null,
   "id": "332d633b-f0bd-4c6a-acb0-71c591a90555",
   "metadata": {},
   "outputs": [],
   "source": []
  },
  {
   "cell_type": "code",
   "execution_count": null,
   "id": "e552d075-db90-4695-aabf-5118f4ae5d8a",
   "metadata": {},
   "outputs": [],
   "source": []
  }
 ],
 "metadata": {
  "kernelspec": {
   "display_name": "Python 3 (ipykernel)",
   "language": "python",
   "name": "python3"
  },
  "language_info": {
   "codemirror_mode": {
    "name": "ipython",
    "version": 3
   },
   "file_extension": ".py",
   "mimetype": "text/x-python",
   "name": "python",
   "nbconvert_exporter": "python",
   "pygments_lexer": "ipython3",
   "version": "3.10.9"
  }
 },
 "nbformat": 4,
 "nbformat_minor": 5
}
